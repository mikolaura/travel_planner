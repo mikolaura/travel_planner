{
 "cells": [
  {
   "cell_type": "code",
   "execution_count": 1,
   "id": "136fed32",
   "metadata": {},
   "outputs": [
    {
     "name": "stdout",
     "output_type": "stream",
     "text": [
      "Collecting ddgs\n",
      "  Downloading ddgs-9.5.2-py3-none-any.whl.metadata (18 kB)\n",
      "Requirement already satisfied: click>=8.1.8 in c:\\users\\admin\\appdata\\local\\programs\\python\\python313\\lib\\site-packages (from ddgs) (8.2.1)\n",
      "Collecting primp>=0.15.0 (from ddgs)\n",
      "  Downloading primp-0.15.0-cp38-abi3-win_amd64.whl.metadata (13 kB)\n",
      "Collecting lxml>=5.3.0 (from ddgs)\n",
      "  Downloading lxml-6.0.0-cp313-cp313-win_amd64.whl.metadata (6.8 kB)\n",
      "Requirement already satisfied: colorama in c:\\users\\admin\\appdata\\roaming\\python\\python313\\site-packages (from click>=8.1.8->ddgs) (0.4.6)\n",
      "Downloading ddgs-9.5.2-py3-none-any.whl (36 kB)\n",
      "Downloading lxml-6.0.0-cp313-cp313-win_amd64.whl (4.0 MB)\n",
      "   ---------------------------------------- 0.0/4.0 MB ? eta -:--:--\n",
      "   ---------------------------------------  3.9/4.0 MB 25.7 MB/s eta 0:00:01\n",
      "   ---------------------------------------- 4.0/4.0 MB 14.9 MB/s eta 0:00:00\n",
      "Downloading primp-0.15.0-cp38-abi3-win_amd64.whl (3.1 MB)\n",
      "   ---------------------------------------- 0.0/3.1 MB ? eta -:--:--\n",
      "   ---------------------------------------- 3.1/3.1 MB 47.0 MB/s eta 0:00:00\n",
      "Installing collected packages: primp, lxml, ddgs\n",
      "Successfully installed ddgs-9.5.2 lxml-6.0.0 primp-0.15.0\n"
     ]
    },
    {
     "name": "stderr",
     "output_type": "stream",
     "text": [
      "\n",
      "[notice] A new release of pip is available: 24.3.1 -> 25.2\n",
      "[notice] To update, run: python.exe -m pip install --upgrade pip\n"
     ]
    }
   ],
   "source": [
    "!pip install ddgs"
   ]
  },
  {
   "cell_type": "code",
   "execution_count": 2,
   "id": "bf8ee12c",
   "metadata": {},
   "outputs": [
    {
     "data": {
      "text/plain": [
       "[{'title': 'adverbs - About \"best\" , \"the best\" , and \"most\" - English …',\n",
       "  'href': 'https://ell.stackexchange.com/questions/106993/about-best-the-best-and-most',\n",
       "  'body': 'Oct 20, 2016 · Both sentences could mean the same thing, however I like you best. I like chocolate best, better than anything else can be used when what one is choosing from is not …'},\n",
       " {'title': 'articles - \"it is best\" vs. \"it is the best\" - English Language ...',\n",
       "  'href': 'https://ell.stackexchange.com/questions/77629/it-is-best-vs-it-is-the-best',\n",
       "  'body': 'Jan 2, 2016 · The word \"best\" is an adjective, and adjectives do not take articles by themselves. Because the noun car is modified by the superlative adjective best, and because this makes …'},\n",
       " {'title': 'grammar - It was the best ever vs it is the best ever? - English ...',\n",
       "  'href': 'https://ell.stackexchange.com/questions/336995/it-was-the-best-ever-vs-it-is-the-best-ever',\n",
       "  'body': 'May 29, 2023 · So, \" It is the best ever \" means it\\'s the best of all time, up to the present. \" It was the best ever \" means either it was the best up to that point in time, and a better one may have …'},\n",
       " {'title': '\"Which one is the best\" vs. \"which one the best is\"',\n",
       "  'href': 'https://ell.stackexchange.com/questions/315927/which-one-is-the-best-vs-which-one-the-best-is',\n",
       "  'body': 'May 25, 2022 · \"Which one is the best\" is obviously a question format, so it makes sense that \" which one the best is \" should be the correct form. This is very good instinct, and you could …'},\n",
       " {'title': '\"What was best\" vs \"what was the best\"? - English Language …',\n",
       "  'href': 'https://ell.stackexchange.com/questions/182964/what-was-best-vs-what-was-the-best',\n",
       "  'body': 'Oct 18, 2018 · In your context, the best relates to {something}, whereas best relates to a course of action. Plastic, wood, or metal container? What was the best choice for this purpose? Plastic, …'},\n",
       " {'title': 'What is the correct usage of \"deems fit\" phrase?',\n",
       "  'href': 'https://ell.stackexchange.com/questions/109432/what-is-the-correct-usage-of-deems-fit-phrase',\n",
       "  'body': 'Nov 15, 2016 · I want to convey the feeling that \"do whatever you feel is the best\"? How should I incorporate the phrase \"deems fit\" in my sentence?'},\n",
       " {'title': 'Way of / to / for - English Language Learners Stack Exchange',\n",
       "  'href': 'https://ell.stackexchange.com/questions/53441/word-choice-way-of-to-for',\n",
       "  'body': 'Mar 25, 2015 · The best way to use \"the best way\" is to follow it with an infinitive. However, this is not the only way to use the phrase; \"the best way\" can also be followed by of with a gerund: …'},\n",
       " {'title': 'grammar - Like best/the best like most/the most - English …',\n",
       "  'href': 'https://ell.stackexchange.com/questions/141980/like-best-the-best-like-most-the-most',\n",
       "  'body': \"I like chocolate and sweets but i like peanut best.= 'correct'👍 and widely used by English speakers even though may be considered as a little informal. I like chocolate and sweets but i like …\"},\n",
       " {'title': 'word usage - \"I did my best\" vs \"I did the best I could\" - English ...',\n",
       "  'href': 'https://ell.stackexchange.com/questions/91465/i-did-my-best-vs-i-did-the-best-i-could',\n",
       "  'body': 'Apr 13, 2017 · In one post, a commenter maintained that the phrases \"I did my best\" and \"I did the best I could\" don\\'t mean quite the same thing. If it is true, what is the fine difference between …'},\n",
       " {'title': \"How can I apologize and promise that a mistake won't happen …\",\n",
       "  'href': 'https://ell.stackexchange.com/questions/94558/how-can-i-apologize-and-promise-that-a-mistake-wont-happen-again',\n",
       "  'body': \"Steve's suggestion is the best, but if you want to apologise in a more formal way, then: I deeply regret what occurred, and I promise that I will make every effort and do everything in my power …\"}]"
      ]
     },
     "execution_count": 2,
     "metadata": {},
     "output_type": "execute_result"
    }
   ],
   "source": [
    "from ddgs import DDGS\n",
    "\n",
    "ddgs = DDGS()\n",
    "ddgs.text(\"What are the best travel destinations for 2023?\")"
   ]
  },
  {
   "cell_type": "code",
   "execution_count": null,
   "id": "2b8bb94e",
   "metadata": {},
   "outputs": [],
   "source": []
  }
 ],
 "metadata": {
  "kernelspec": {
   "display_name": "Python 3",
   "language": "python",
   "name": "python3"
  },
  "language_info": {
   "codemirror_mode": {
    "name": "ipython",
    "version": 3
   },
   "file_extension": ".py",
   "mimetype": "text/x-python",
   "name": "python",
   "nbconvert_exporter": "python",
   "pygments_lexer": "ipython3",
   "version": "3.13.2"
  }
 },
 "nbformat": 4,
 "nbformat_minor": 5
}
